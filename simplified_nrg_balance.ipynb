{
 "cells": [
  {
   "cell_type": "code",
   "execution_count": null,
   "id": "23fb0830",
   "metadata": {},
   "outputs": [],
   "source": [
    "import pandas as pd\n",
    "import numpy as np\n",
    "import seaborn as sns\n",
    "import matplotlib.pyplot as plt\n",
    "import pyarrow.parquet as pq\n",
    "import duckdb\n",
    "\n",
    "# For plotting\n",
    "from sklearn.decomposition import PCA\n"
   ]
  },
  {
   "cell_type": "markdown",
   "id": "9c75eea6",
   "metadata": {},
   "source": [
    "The following dataset is simplified energy balances."
   ]
  },
  {
   "cell_type": "code",
   "execution_count": null,
   "id": "8f63c870",
   "metadata": {},
   "outputs": [],
   "source": [
    "dataset = pd.read_csv('/Users/couch/Eurostat_data/nrg_bal/estat_nrg_bal_c.tsv', sep='\\t')\n",
    "dataset.head()"
   ]
  },
  {
   "cell_type": "code",
   "execution_count": null,
   "id": "3cfefb9e",
   "metadata": {},
   "outputs": [],
   "source": [
    "dataset.columns"
   ]
  },
  {
   "cell_type": "code",
   "execution_count": null,
   "id": "243dee09",
   "metadata": {},
   "outputs": [],
   "source": [
    "# data cleaning\n",
    "dataset[['freq', 'nrg_bal', 'siec', 'unit', 'geo',]] = dataset['freq,nrg_bal,siec,unit,geo\\TIME_PERIOD'].str.split(',', expand=True)\n",
    "dataset = dataset.drop(columns=['freq,nrg_bal,siec,unit,geo\\TIME_PERIOD'])\n",
    "dataset.columns = dataset.columns.str.strip()\n",
    "dataset.replace({': ': 0, ': m': np.nan}, inplace=True)\n",
    "dataset[['1990', '1991', '1992', '1993', '1994', '1995', '1996', '1997', '1998', '1999',\n",
    "               '2000', '2001', '2002', '2003', '2004', '2005', '2006', '2007', '2008', '2009',\n",
    "               '2010', '2011', '2012', '2013', '2014', '2015', '2016', '2017', '2018', '2019',\n",
    "               '2020', '2021', '2022']] = dataset[['1990', '1991', '1992', '1993', '1994', '1995', '1996', '1997', '1998', '1999',\n",
    "               '2000', '2001', '2002', '2003', '2004', '2005', '2006', '2007', '2008', '2009',\n",
    "               '2010', '2011', '2012', '2013', '2014', '2015', '2016', '2017', '2018', '2019',\n",
    "               '2020', '2021', '2022']].apply(pd.to_numeric, errors='coerce')\n",
    "dataset.columns"
   ]
  },
  {
   "cell_type": "code",
   "execution_count": null,
   "id": "c0958984",
   "metadata": {},
   "outputs": [],
   "source": [
    "dataset.head()"
   ]
  },
  {
   "cell_type": "code",
   "execution_count": null,
   "id": "f7f8d05b",
   "metadata": {},
   "outputs": [],
   "source": [
    "dataset.describe()"
   ]
  },
  {
   "cell_type": "code",
   "execution_count": null,
   "id": "f9a7109c",
   "metadata": {},
   "outputs": [],
   "source": [
    "dataset['siec'].unique()"
   ]
  },
  {
   "cell_type": "code",
   "execution_count": null,
   "id": "842465e3",
   "metadata": {},
   "outputs": [],
   "source": [
    "dataset['geo'].unique()"
   ]
  },
  {
   "cell_type": "code",
   "execution_count": null,
   "id": "1dca56b3",
   "metadata": {},
   "outputs": [],
   "source": [
    "dataset['freq'].unique()"
   ]
  },
  {
   "cell_type": "code",
   "execution_count": null,
   "id": "0411ccb7",
   "metadata": {},
   "outputs": [],
   "source": [
    "dataset['nrg_bal'].unique()"
   ]
  },
  {
   "cell_type": "code",
   "execution_count": null,
   "id": "d38f4bd3",
   "metadata": {},
   "outputs": [],
   "source": [
    "dataset.head()"
   ]
  },
  {
   "cell_type": "code",
   "execution_count": null,
   "id": "5784d0b7",
   "metadata": {},
   "outputs": [],
   "source": [
    "dataset.shape"
   ]
  },
  {
   "cell_type": "code",
   "execution_count": null,
   "id": "7bf0a6f4",
   "metadata": {},
   "outputs": [],
   "source": [
    "elec_only = dataset[dataset['siec']=='E7000']\n",
    "print(elec_only.shape[0])\n",
    "print(elec_only['nrg_bal'].unique())"
   ]
  },
  {
   "cell_type": "code",
   "execution_count": null,
   "id": "858c69be",
   "metadata": {},
   "outputs": [],
   "source": [
    "elec_total_output = elec_only[elec_only['nrg_bal']=='TO_EHG']\n",
    "elec_total_output"
   ]
  },
  {
   "cell_type": "code",
   "execution_count": null,
   "id": "2fd4aefe",
   "metadata": {},
   "outputs": [],
   "source": [
    "elec_total_output.columns"
   ]
  },
  {
   "cell_type": "code",
   "execution_count": null,
   "id": "2aa6084c",
   "metadata": {},
   "outputs": [],
   "source": [
    "# Experimental plots\n",
    "year_cols = [str(year) for year in range(1990, 2024)]  # or whatever range is available\n",
    "\n",
    "long_df = elec_total_output.melt(\n",
    "    id_vars=['geo', 'unit'],  # optionally keep 'siec' or 'nrg_bal' if you need\n",
    "    value_vars=year_cols,\n",
    "    var_name='year',\n",
    "    value_name='value'\n",
    ")\n",
    "\n",
    "plt.figure(figsize=(12, 6))\n",
    "sns.lineplot(data=long_df, x='year', y='value', hue='geo')\n",
    "plt.title('Electricity Usage Over Time by Country')\n",
    "plt.ylabel(f'Value ({long_df[\"unit\"].unique()[0]})')\n",
    "plt.gca().invert_yaxis()\n",
    "plt.xlabel('Year')\n",
    "plt.legend(bbox_to_anchor=(1.05, 1), loc='upper left')\n",
    "plt.xticks(rotation=90)\n",
    "plt.tight_layout()\n",
    "plt.show()"
   ]
  },
  {
   "cell_type": "code",
   "execution_count": null,
   "id": "4b885e2d",
   "metadata": {},
   "outputs": [],
   "source": [
    "# Note: This dataset was only for the EU. Since Brexit, the UK is no longer part of the EU, it has values of 0 after\n",
    "# a certain point.\n",
    "UK_only = dataset[(dataset['geo']=='UK') & (dataset['siec']=='E7000')]\n",
    "UK_only_long = UK_only.melt(\n",
    "    id_vars=['geo', 'unit'],\n",
    "    value_vars=year_cols,\n",
    "    var_name='year',\n",
    "    value_name='value'\n",
    ")\n",
    "\n",
    "plt.figure(figsize=(12, 6))\n",
    "sns.lineplot(data=UK_only_long, x='year', y='value')\n",
    "plt.title('Electricity Usage Over Time in the UK')\n",
    "plt.ylabel(f'Value ({UK_only_long[\"unit\"].unique()[0]})')\n",
    "plt.xlabel('Year')\n",
    "plt.xticks(rotation=90)\n",
    "plt.tight_layout()\n",
    "plt.show()"
   ]
  },
  {
   "cell_type": "code",
   "execution_count": null,
   "id": "b8d1a68c",
   "metadata": {},
   "outputs": [],
   "source": [
    "BE_only = dataset[(dataset['geo']=='BE') & (dataset['siec']=='E7000')]\n",
    "BE_only_long = BE_only.melt(\n",
    "    id_vars=['geo', 'unit'],\n",
    "    value_vars=year_cols,\n",
    "    var_name='year',\n",
    "    value_name='value'\n",
    ")\n",
    "BE_only_long"
   ]
  },
  {
   "cell_type": "code",
   "execution_count": null,
   "id": "3f7d4a62",
   "metadata": {},
   "outputs": [],
   "source": [
    "BE_only = dataset[(dataset['geo']=='BE') & (dataset['siec']=='E7000')]\n",
    "BE_only_long = BE_only.melt(\n",
    "    id_vars=['geo', 'unit'],\n",
    "    value_vars=year_cols,\n",
    "    var_name='year',\n",
    "    value_name='value'\n",
    ")\n",
    "\n",
    "plt.figure(figsize=(12, 6))\n",
    "sns.lineplot(data=BE_only_long, x='year', y='value')\n",
    "plt.title('Electricity Usage Over Time in Belgium')\n",
    "plt.ylabel(f'Value ({BE_only_long[\"unit\"].unique()[0]})')\n",
    "plt.xlabel('Year')\n",
    "plt.xticks(rotation=90)\n",
    "plt.tight_layout()\n",
    "plt.show()"
   ]
  },
  {
   "cell_type": "code",
   "execution_count": null,
   "id": "ba86575a",
   "metadata": {},
   "outputs": [],
   "source": [
    "sweden_only = dataset[(dataset['geo']=='SE') & (dataset['siec']=='E7000')]\n",
    "sweden_only_long = sweden_only.melt(\n",
    "    id_vars=['geo', 'unit'],\n",
    "    value_vars=year_cols,\n",
    "    var_name='year',\n",
    "    value_name='value'\n",
    ")\n",
    "plt.figure(figsize=(12, 6))\n",
    "sns.lineplot(data=sweden_only_long, x='year', y='value')\n",
    "plt.title('Electricity Usage Over Time in Sweden')\n",
    "plt.ylabel(f'Value ({sweden_only_long[\"unit\"].unique()[0]})')\n",
    "plt.xlabel('Year')\n",
    "plt.xticks(rotation=90)\n",
    "plt.tight_layout()\n",
    "plt.show()\n"
   ]
  },
  {
   "cell_type": "code",
   "execution_count": null,
   "id": "55fdb023",
   "metadata": {},
   "outputs": [],
   "source": [
    "# Supposed to be countries by change in percentage of electricity usage per year but kind of mid graph tbh\n",
    "long_df['value'] = pd.to_numeric(long_df['value'], errors='coerce')\n",
    "long_df = long_df.sort_values(['geo', 'year'])\n",
    "long_df['pct_change'] = long_df.groupby('geo')['value'].pct_change() * 100\n",
    "plt.figure(figsize=(12, 6))\n",
    "sns.lineplot(data=long_df, x='year', y='pct_change', hue='geo')\n",
    "plt.title('Percentage Change in Electricity Usage Over Time by Country')\n",
    "plt.ylabel('Percentage Change (%)')\n",
    "plt.xlabel('Year')\n",
    "plt.xticks(rotation=90)\n",
    "plt.legend(bbox_to_anchor=(1.05, 1), loc='upper left')\n",
    "plt.tight_layout()\n",
    "plt.show()"
   ]
  },
  {
   "cell_type": "code",
   "execution_count": null,
   "id": "1d5f876d",
   "metadata": {},
   "outputs": [],
   "source": [
    "# First, aggregate total electricity usage per country-year\n",
    "agg_df = long_df.groupby(['geo', 'year'], as_index=False)['value'].sum()\n",
    "\n",
    "# Pivot: countries as rows, years as columns\n",
    "country_year_matrix = agg_df.pivot(index='geo', columns='year', values='value')\n",
    "\n",
    "# Optional: fill missing values (e.g., with 0 or interpolation)\n",
    "country_year_matrix = country_year_matrix.fillna(0)\n",
    "\n",
    "from sklearn.preprocessing import StandardScaler\n",
    "\n",
    "scaler = StandardScaler()\n",
    "country_year_scaled = scaler.fit_transform(country_year_matrix)\n",
    "\n",
    "# Keep row labels (country names)\n",
    "country_year_scaled_df = pd.DataFrame(country_year_scaled, index=country_year_matrix.index, columns=country_year_matrix.columns)\n",
    "\n",
    "from sklearn.cluster import KMeans\n",
    "\n",
    "# Choose number of clusters (e.g., 3–5 is a good start)\n",
    "kmeans = KMeans(n_clusters=4, random_state=42)\n",
    "country_clusters = kmeans.fit_predict(country_year_scaled)\n",
    "\n",
    "# Add cluster labels to a new column\n",
    "country_year_matrix['cluster'] = country_clusters\n"
   ]
  },
  {
   "cell_type": "code",
   "execution_count": null,
   "id": "fa60a421",
   "metadata": {},
   "outputs": [],
   "source": [
    "# Performing PCA to cluster countries based on their electricity usage patterns\n",
    "pca = PCA(n_components=2)\n",
    "coords = pca.fit_transform(country_year_scaled)\n",
    "\n",
    "plt.figure(figsize=(8, 6))\n",
    "sns.scatterplot(x=coords[:, 0], y=coords[:, 1], hue=country_clusters, palette='Set2')\n",
    "plt.title('Country Clusters Based on Electricity Usage Patterns')\n",
    "plt.xlabel('PC1')\n",
    "plt.ylabel('PC2')\n",
    "plt.legend(title='Cluster')\n",
    "plt.tight_layout()\n",
    "plt.show()\n"
   ]
  },
  {
   "cell_type": "code",
   "execution_count": null,
   "id": "4954ac1f",
   "metadata": {},
   "outputs": [],
   "source": [
    "# PCA but labelled\n",
    "pca = PCA(n_components=2)\n",
    "coords = pca.fit_transform(country_year_scaled)\n",
    "\n",
    "# Turn into DataFrame with country names and cluster labels\n",
    "pca_df = pd.DataFrame({\n",
    "    'PC1': coords[:, 0],\n",
    "    'PC2': coords[:, 1],\n",
    "    'country': country_year_matrix.index,\n",
    "    'cluster': country_clusters\n",
    "})\n",
    "\n",
    "plt.figure(figsize=(10, 8))\n",
    "sns.scatterplot(data=pca_df, x='PC1', y='PC2', hue='cluster', palette='Set2', s=100)\n",
    "\n",
    "for _, row in pca_df.iterrows():\n",
    "    plt.text(\n",
    "        row['PC1'] + 0.1,\n",
    "        row['PC2'],\n",
    "        row['country'],\n",
    "        fontsize=9,\n",
    "        rotation=45  \n",
    "    )\n",
    "\n",
    "plt.title('PCA of Countries by Electricity Usage (Labeled)')\n",
    "plt.xlabel('Principal Component 1')\n",
    "plt.ylabel('Principal Component 2')\n",
    "plt.legend(title='Cluster')\n",
    "plt.tight_layout()\n",
    "plt.show()\n"
   ]
  },
  {
   "cell_type": "code",
   "execution_count": null,
   "id": "cd8ed50f",
   "metadata": {},
   "outputs": [],
   "source": [
    "# List of countries by cluster\n",
    "cluster_groups = pca_df.groupby('cluster')['country'].apply(list)\n",
    "\n",
    "print(cluster_groups)\n"
   ]
  },
  {
   "cell_type": "code",
   "execution_count": null,
   "id": "bb377274",
   "metadata": {},
   "outputs": [],
   "source": []
  }
 ],
 "metadata": {
  "kernelspec": {
   "display_name": "dsc80",
   "language": "python",
   "name": "python3"
  },
  "language_info": {
   "codemirror_mode": {
    "name": "ipython",
    "version": 3
   },
   "file_extension": ".py",
   "mimetype": "text/x-python",
   "name": "python",
   "nbconvert_exporter": "python",
   "pygments_lexer": "ipython3",
   "version": "3.12.10"
  }
 },
 "nbformat": 4,
 "nbformat_minor": 5
}
